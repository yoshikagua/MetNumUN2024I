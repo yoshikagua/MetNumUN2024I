{
  "nbformat": 4,
  "nbformat_minor": 0,
  "metadata": {
    "colab": {
      "provenance": [],
      "include_colab_link": true
    },
    "kernelspec": {
      "name": "python3",
      "display_name": "Python 3"
    }
  },
  "cells": [
    {
      "cell_type": "markdown",
      "metadata": {
        "id": "view-in-github",
        "colab_type": "text"
      },
      "source": [
        "<a href=\"https://colab.research.google.com/github/yoshikagua/MetNumUN2024I/blob/main/Quiz9.1/staguirreg_Quiz9.1.ipynb\" target=\"_parent\"><img src=\"https://colab.research.google.com/assets/colab-badge.svg\" alt=\"Open In Colab\"/></a>"
      ]
    },
    {
      "cell_type": "markdown",
      "source": [
        "# 1. Solve the using *LUsolve* from sympy the   2 $\\times$ 2 system $Ax=b$, inside the function *LUsolve_2_by_2_lin_sys* with\n",
        "\n",
        "$$A = \\left[\n",
        "  \\begin{array}{cc}\n",
        "e & i\\\\\n",
        " \\sqrt{2}& \\pi\n",
        "\\end{array}\n",
        "\\right]\n",
        "$$\n",
        "\n",
        "$$b  = \\left[\n",
        "  \\begin{array}{c}\n",
        "\\sqrt{3} \\\\\n",
        "1\n",
        "\\end{array}\n",
        "\\right]\n",
        "$$"
      ],
      "metadata": {
        "id": "Voh5FtIzbcn3"
      }
    },
    {
      "cell_type": "code",
      "source": [
        "from sympy import *\n",
        "init_printing()\n",
        "\n",
        "def LUsolve_2_by_2_lin_sys():\n",
        "\n",
        "  A = Matrix([[E,I],\n",
        "            [sqrt(2),pi]])\n",
        "  b = Matrix(2,1,[sqrt(3),1])\n",
        "\n",
        "  x = A.LUsolve(b)\n",
        "\n",
        "  return x\n",
        "\n",
        "LUsolve_2_by_2_lin_sys()\n"
      ],
      "metadata": {
        "id": "2rXVy2w_Re5Z",
        "outputId": "60623b0c-e0bd-44a3-cd14-fc3af795a725",
        "colab": {
          "base_uri": "https://localhost:8080/",
          "height": 102
        }
      },
      "execution_count": 2,
      "outputs": [
        {
          "output_type": "execute_result",
          "data": {
            "text/plain": [
              "⎡⎛       ⎛      -1    ⎞⎞    ⎤\n",
              "⎢⎜     ⅈ⋅⎝- √6⋅ℯ   + 1⎠⎟  -1⎥\n",
              "⎢⎜√3 - ────────────────⎟⋅ℯ  ⎥\n",
              "⎢⎜                 -1  ⎟    ⎥\n",
              "⎢⎝       π - √2⋅ⅈ⋅ℯ    ⎠    ⎥\n",
              "⎢                           ⎥\n",
              "⎢             -1            ⎥\n",
              "⎢       - √6⋅ℯ   + 1        ⎥\n",
              "⎢       ────────────        ⎥\n",
              "⎢                 -1        ⎥\n",
              "⎣       π - √2⋅ⅈ⋅ℯ          ⎦"
            ],
            "text/latex": "$\\displaystyle \\left[\\begin{matrix}\\frac{\\sqrt{3} - \\frac{i \\left(- \\frac{\\sqrt{6}}{e} + 1\\right)}{\\pi - \\frac{\\sqrt{2} i}{e}}}{e}\\\\\\frac{- \\frac{\\sqrt{6}}{e} + 1}{\\pi - \\frac{\\sqrt{2} i}{e}}\\end{matrix}\\right]$"
          },
          "metadata": {},
          "execution_count": 2
        }
      ]
    },
    {
      "cell_type": "markdown",
      "source": [
        "# 2. Solve the using *solve* from sympy the   2 $\\times$ 2 system $Ax=b$, inside the function *solve_2_by_2_lin_sys* with\n",
        "\n",
        "$$A = \\left[\n",
        "  \\begin{array}{cc}\n",
        "e & i\\\\\n",
        " \\sqrt{2}& \\pi\n",
        "\\end{array}\n",
        "\\right]\n",
        "$$\n",
        "\n",
        "$$b  = \\left[\n",
        "  \\begin{array}{c}\n",
        "\\sqrt{3} \\\\\n",
        "1\n",
        "\\end{array}\n",
        "\\right]\n",
        "$$"
      ],
      "metadata": {
        "id": "zTeu2Yzicj0m"
      }
    },
    {
      "cell_type": "code",
      "source": [
        "from sympy import *\n",
        "init_printing()\n",
        "\n",
        "def solve_2_by_2_lin_sys():\n",
        "\n",
        "  A = Matrix([[E,I],\n",
        "            [sqrt(2),pi]])\n",
        "  b = Matrix(2,1,[sqrt(3),1])\n",
        "\n",
        "  x = Matrix(2,1,symbols('x1:3'))\n",
        "\n",
        "  sol = sol=linsolve(list(A@x-b),list(x))\n",
        "\n",
        "  return sol\n",
        "\n",
        "solve_2_by_2_lin_sys()"
      ],
      "metadata": {
        "id": "56WRBbMTReea",
        "outputId": "af659542-9806-4e26-967a-80548fc639ca",
        "colab": {
          "base_uri": "https://localhost:8080/",
          "height": 68
        }
      },
      "execution_count": 3,
      "outputs": [
        {
          "output_type": "execute_result",
          "data": {
            "text/plain": [
              "⎧⎛      √2⋅ⅈ           √6⋅π            2⋅√3           √2⋅ℯ    ⎞⎫\n",
              "⎨⎜- ──────────── + ────────────, - ──────────── + ────────────⎟⎬\n",
              "⎩⎝  √2⋅ℯ⋅π - 2⋅ⅈ   √2⋅ℯ⋅π - 2⋅ⅈ    √2⋅ℯ⋅π - 2⋅ⅈ   √2⋅ℯ⋅π - 2⋅ⅈ⎠⎭"
            ],
            "text/latex": "$\\displaystyle \\left\\{\\left( - \\frac{\\sqrt{2} i}{\\sqrt{2} e \\pi - 2 i} + \\frac{\\sqrt{6} \\pi}{\\sqrt{2} e \\pi - 2 i}, \\  - \\frac{2 \\sqrt{3}}{\\sqrt{2} e \\pi - 2 i} + \\frac{\\sqrt{2} e}{\\sqrt{2} e \\pi - 2 i}\\right)\\right\\}$"
          },
          "metadata": {},
          "execution_count": 3
        }
      ]
    }
  ]
}