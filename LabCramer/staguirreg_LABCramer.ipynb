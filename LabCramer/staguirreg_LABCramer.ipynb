{
  "nbformat": 4,
  "nbformat_minor": 0,
  "metadata": {
    "colab": {
      "provenance": [],
      "include_colab_link": true
    },
    "kernelspec": {
      "name": "python3",
      "display_name": "Python 3"
    },
    "language_info": {
      "name": "python"
    }
  },
  "cells": [
    {
      "cell_type": "markdown",
      "metadata": {
        "id": "view-in-github",
        "colab_type": "text"
      },
      "source": [
        "<a href=\"https://colab.research.google.com/github/yoshikagua/MetNumUN2024I/blob/main/LabCramer/staguirreg_LABCramer.ipynb\" target=\"_parent\"><img src=\"https://colab.research.google.com/assets/colab-badge.svg\" alt=\"Open In Colab\"/></a>"
      ]
    },
    {
      "cell_type": "markdown",
      "source": [
        "### Cramer by hand\n",
        "\n",
        "$$A = \\left[\n",
        "  \\begin{array}{cc}\n",
        "1 & 2\\\\\n",
        "3 & 4\n",
        "\\end{array}\n",
        "\\right],  \n",
        "b= \\left[\n",
        "\\begin{array}{c}\n",
        "5\\\\\n",
        "6\n",
        "\\end{array}\n",
        "\\right]\n",
        "$$\n",
        "$$\n",
        "Ax =B\n",
        "$$\n",
        "$$  \n",
        "\\left[\n",
        "  \\begin{array}{cc}\n",
        "1 & 2\\\\\n",
        "3 & 4\n",
        "\\end{array}\n",
        "\\right]\n",
        "\\left[\n",
        "\\begin{array}{c}\n",
        "x_1\\\\\n",
        "x_2\n",
        "\\end{array}\n",
        "\\right]  \n",
        "=\n",
        "\\left[\n",
        "\\begin{array}{c}\n",
        "5\\\\\n",
        "6\n",
        "\\end{array}\n",
        "\\right]\n",
        "$$\n",
        "\n",
        "$$Det\\ A =  (1 * 4) - (3 * 2)  = 4 - 6 = -2$$\n",
        "\n",
        "$$A_1 = \\left[\n",
        "  \\begin{array}{cc}\n",
        "5 & 2\\\\\n",
        "6 & 4\n",
        "\\end{array}\n",
        "\\right]\n",
        "$$\n",
        "\n",
        "$$Det\\ A_1 = (5 * 4) - (6 * 2) = 20 - 12 =  8$$\n",
        "\n",
        "$$x_1 =  \\frac{Det\\ A_1}{Det\\ A}= \\frac{8}{-2} =  -4$$\n",
        "\n",
        "$$A_2 = \\left[\n",
        "  \\begin{array}{cc}\n",
        "1 & 5\\\\\n",
        "3 & 6\n",
        "\\end{array}\n",
        "\\right]\n",
        "$$\n",
        "\n",
        "$$Det\\ A_2 = (1*6) - (3*5)  = 6 -15 = -9$$\n",
        "\n",
        "$$x_2 = \\frac{Det\\ A_2}{Det\\ A}= \\frac{-9}{-2} =  \\frac{9}{2}$$"
      ],
      "metadata": {
        "id": "SUmNm2PmfHU7"
      }
    },
    {
      "cell_type": "markdown",
      "source": [
        "- ***Adding a single digit to any number requires about 7.30 bits of processing.*** - World Mental Calculation: News and Resources for Competitive and Advanced Mental Calculation https://worldmentalcalculation.com/2019/06/30/fastest-possible-processing-speed-of-the-human-brain/\n",
        "\n",
        "- ***The human brain can process 11 million bits of information every second. But our conscious minds can handle only 40 to 50 bits of information a second.*** - Understanding Unconscious Bias https://www.npr.org/2020/07/14/891140598/understanding-unconscious-bias\n",
        "\n",
        "- ***A new way to analyze human reaction times shows that the brain processes data no faster than 60 bits per second.***- New Measure of Human Brain Processing Speed https://www.technologyreview.com/2009/08/25/210267/new-measure-of-human-brain-processing-speed/\n",
        "\n",
        "\n"
      ],
      "metadata": {
        "id": "3rH8z64pk2XV"
      }
    },
    {
      "cell_type": "markdown",
      "source": [
        "# Number of operations to compute a determinant by cofactor expasion\n",
        "- Cofactor expansion https://people.math.carleton.ca/~kcheung/math/notes/MATH1107/07/07_cofactor_expansion.html\n",
        "## Definition of A(i∣j)\n",
        "Let $A$ be an $n\\times n$ matrix. Let $i,j \\in \\{1,…,n\\}$. We define $A(i∣j)$  to be the matrix obtained from $A$ by removing row $i$ and column $j$ from $A$.\n",
        "\n",
        "## Cofactor formula\n",
        "One way of computing the determinant of an $n\\times n$  matrix\n",
        "\n",
        "$$A = \\left[\n",
        "  \\begin{array}{cccc}\n",
        "a_{11} & a_{12} & \\cdots & a_{1n}\\\\\n",
        "a_{21} & a_{22} & \\cdots & a_{2n}\\\\\n",
        "\\vdots  & \\vdots & \\ddots & \\vdots\\\\\n",
        "a_{n1} & a_{n2} & \\cdots & a_{nn}\\\\\n",
        "\\end{array}\n",
        "\\right]\n",
        "$$\n",
        "is to use the following formula called the cofactor formula.\n",
        "\n",
        "Pick either any $i\\ \\in \\{1,…,n\\}$ (fixed row) or $i\\ \\in \\{1,…,n\\}$ (fixed column). Then\n",
        "\n",
        "$$\\det(A)  = \\sum_{j=1}^n (-1)^{i+j}a_{ij} \\det(A(i∣j)) $$\n",
        "\n",
        "\n",
        "$C_{i,j}= (-1)^{i+j}a_{ij} \\det(A(i∣j))$ is called a cofactor of $A$.\n",
        "\n",
        "$$\\det(A)  = \\sum_{j=1}^n C_{i,j} $$\n",
        "\n"
      ],
      "metadata": {
        "id": "CgrSIpDOnaGQ"
      }
    },
    {
      "cell_type": "code",
      "source": [
        "# Code from https://stackoverflow.com/questions/16510111/computing-determinant-of-a-matrix-nxn-recursively\n",
        "\n",
        "import numpy as np\n",
        "\n",
        "def smaller_matrix(original_matrix,row, column):\n",
        "    for ii in range(len(original_matrix)):\n",
        "        new_matrix=np.delete(original_matrix,ii,0)\n",
        "        new_matrix=np.delete(new_matrix,column,1)\n",
        "        return new_matrix\n",
        "\n",
        "\n",
        "def determinant(matrix):\n",
        "    \"\"\"Returns a determinant of a matrix by recursive method.\"\"\"\n",
        "    (r,c) = matrix.shape\n",
        "    if r != c:\n",
        "        print(\"Error!Not a square matrix!\")\n",
        "        return None\n",
        "    elif r==2:\n",
        "        simple_determinant = matrix[0][0]*matrix[1][1]-matrix[0][1]*matrix[1][0]\n",
        "        return simple_determinant\n",
        "    else:\n",
        "        answer=0\n",
        "        for j in range(r):\n",
        "            cofactor = (-1)**(0+j) * matrix[0][j] * determinant(smaller_matrix(matrix, 0, j))\n",
        "            answer+= cofactor\n",
        "        return answer"
      ],
      "metadata": {
        "id": "J-joKRBhC7eF"
      },
      "execution_count": null,
      "outputs": []
    },
    {
      "cell_type": "code",
      "source": [
        "#test the function\n",
        "#Only works for numpy.array input\n",
        "np.random.seed(1)"
      ],
      "metadata": {
        "id": "Il2pcRD4DptG"
      },
      "execution_count": null,
      "outputs": []
    },
    {
      "cell_type": "code",
      "source": [
        "n = 2\n",
        "matrix=np.random.randint(-5,5,size=(n,n))\n",
        "matrix"
      ],
      "metadata": {
        "colab": {
          "base_uri": "https://localhost:8080/"
        },
        "id": "AgKC1-aiFRW2",
        "outputId": "7f130e8a-4a1c-4d64-83da-11e4ba06d169"
      },
      "execution_count": null,
      "outputs": [
        {
          "output_type": "execute_result",
          "data": {
            "text/plain": [
              "array([[0, 3],\n",
              "       [4, 0]])"
            ]
          },
          "metadata": {},
          "execution_count": 3
        }
      ]
    },
    {
      "cell_type": "code",
      "source": [
        "determinant(matrix)"
      ],
      "metadata": {
        "colab": {
          "base_uri": "https://localhost:8080/"
        },
        "outputId": "2c265251-2707-4fd0-dea7-e9484c0c6294",
        "id": "oI0rUp-SDptH"
      },
      "execution_count": null,
      "outputs": [
        {
          "output_type": "execute_result",
          "data": {
            "text/plain": [
              "-12"
            ]
          },
          "metadata": {},
          "execution_count": 4
        }
      ]
    },
    {
      "cell_type": "code",
      "source": [
        "np.linalg.det(matrix)"
      ],
      "metadata": {
        "colab": {
          "base_uri": "https://localhost:8080/"
        },
        "id": "iqZv7iK-KKXH",
        "outputId": "d244dfa4-07b0-4161-b8ef-538cc7cc9566"
      },
      "execution_count": null,
      "outputs": [
        {
          "output_type": "execute_result",
          "data": {
            "text/plain": [
              "-12.0"
            ]
          },
          "metadata": {},
          "execution_count": 5
        }
      ]
    },
    {
      "cell_type": "code",
      "source": [
        "round(np.linalg.det(matrix))"
      ],
      "metadata": {
        "colab": {
          "base_uri": "https://localhost:8080/"
        },
        "id": "sY21rHM-KdlO",
        "outputId": "1bc51c6c-5552-4082-d232-0ab536bea970"
      },
      "execution_count": null,
      "outputs": [
        {
          "output_type": "execute_result",
          "data": {
            "text/plain": [
              "-12"
            ]
          },
          "metadata": {},
          "execution_count": 6
        }
      ]
    },
    {
      "cell_type": "code",
      "source": [
        "n = 5\n",
        "matrix=np.diag(np.random.randint(-10,10,size=(n)))\n",
        "matrix"
      ],
      "metadata": {
        "colab": {
          "base_uri": "https://localhost:8080/"
        },
        "id": "-QXGZWFIDs5k",
        "outputId": "5c437d56-3e37-4dc2-d8b4-f1c5c54e7cdc"
      },
      "execution_count": null,
      "outputs": [
        {
          "output_type": "execute_result",
          "data": {
            "text/plain": [
              "array([[  5,   0,   0,   0,   0],\n",
              "       [  0, -10,   0,   0,   0],\n",
              "       [  0,   0,   6,   0,   0],\n",
              "       [  0,   0,   0,  -9,   0],\n",
              "       [  0,   0,   0,   0,   2]])"
            ]
          },
          "metadata": {},
          "execution_count": 7
        }
      ]
    },
    {
      "cell_type": "code",
      "source": [
        "determinant(matrix)"
      ],
      "metadata": {
        "colab": {
          "base_uri": "https://localhost:8080/"
        },
        "id": "VP6hRwhwD-3W",
        "outputId": "8f06ef14-648a-486e-dd3e-77d9f89e8480"
      },
      "execution_count": null,
      "outputs": [
        {
          "output_type": "execute_result",
          "data": {
            "text/plain": [
              "5400"
            ]
          },
          "metadata": {},
          "execution_count": 8
        }
      ]
    },
    {
      "cell_type": "code",
      "source": [
        "np.linalg.det(matrix)"
      ],
      "metadata": {
        "colab": {
          "base_uri": "https://localhost:8080/"
        },
        "id": "8NV7Zvp-KtRz",
        "outputId": "49f4b4d4-818d-4ec6-d0a0-d131f636773a"
      },
      "execution_count": null,
      "outputs": [
        {
          "output_type": "execute_result",
          "data": {
            "text/plain": [
              "5400.000000000003"
            ]
          },
          "metadata": {},
          "execution_count": 9
        }
      ]
    },
    {
      "cell_type": "code",
      "source": [
        "round(np.linalg.det(matrix))"
      ],
      "metadata": {
        "colab": {
          "base_uri": "https://localhost:8080/"
        },
        "id": "HXKK3weLKt5T",
        "outputId": "4a87f936-1b76-403d-c1ce-342cf1560d2c"
      },
      "execution_count": null,
      "outputs": [
        {
          "output_type": "execute_result",
          "data": {
            "text/plain": [
              "5400"
            ]
          },
          "metadata": {},
          "execution_count": 10
        }
      ]
    },
    {
      "cell_type": "code",
      "source": [
        "# Modified from the previous code\n",
        "import numpy as np\n",
        "\n",
        "# A a squared numpy matrix\n",
        "def det(A):\n",
        "    \"\"\"Returns a determinant of a matrix by recursive method.\"\"\"\n",
        "    (r,c) = A.shape\n",
        "    if r != c:\n",
        "        print(\"Error!Not a square matrix!\")\n",
        "        return None\n",
        "    elif r==1:\n",
        "          # the code with  r==2 is more efficient but we use this\n",
        "         # because the number of operations is easier to compute\n",
        "        return A[0][0]\n",
        "    else:\n",
        "        answer=0\n",
        "        for j in range(r):\n",
        "            s = 1 if (0+j)%2 == 0 else -1\n",
        "            Aij = np.delete(A,0,0)\n",
        "            Aij = np.delete(Aij,j,1)\n",
        "            cofactor = (s) * A[0][j] * det(Aij)\n",
        "            answer+= cofactor\n",
        "        return answer"
      ],
      "metadata": {
        "id": "B258g8lnBgnG"
      },
      "execution_count": null,
      "outputs": []
    },
    {
      "cell_type": "code",
      "source": [
        "#test the function\n",
        "#Only works for numpy.array input\n",
        "np.random.seed(1)"
      ],
      "metadata": {
        "id": "ZR2mjlqiGdM6"
      },
      "execution_count": null,
      "outputs": []
    },
    {
      "cell_type": "code",
      "source": [
        "n = 2\n",
        "A=np.random.randint(-5,5,size=(n,n))\n",
        "A"
      ],
      "metadata": {
        "colab": {
          "base_uri": "https://localhost:8080/"
        },
        "outputId": "e7ee6c26-c3c5-4735-db7b-dfad748d12cb",
        "id": "jPpBCFaoGlak"
      },
      "execution_count": null,
      "outputs": [
        {
          "output_type": "execute_result",
          "data": {
            "text/plain": [
              "array([[0, 3],\n",
              "       [4, 0]])"
            ]
          },
          "metadata": {},
          "execution_count": 13
        }
      ]
    },
    {
      "cell_type": "code",
      "source": [
        "det(A)"
      ],
      "metadata": {
        "colab": {
          "base_uri": "https://localhost:8080/"
        },
        "outputId": "796c34e2-0ed0-46f2-c433-0b925c43b003",
        "id": "WKbuirZeGlak"
      },
      "execution_count": null,
      "outputs": [
        {
          "output_type": "execute_result",
          "data": {
            "text/plain": [
              "-12"
            ]
          },
          "metadata": {},
          "execution_count": 14
        }
      ]
    },
    {
      "cell_type": "code",
      "source": [
        "determinant(A)"
      ],
      "metadata": {
        "colab": {
          "base_uri": "https://localhost:8080/"
        },
        "id": "_B5xBFirTvQm",
        "outputId": "b14aab84-200e-4382-c1f4-c265d1f97591"
      },
      "execution_count": null,
      "outputs": [
        {
          "output_type": "execute_result",
          "data": {
            "text/plain": [
              "-12"
            ]
          },
          "metadata": {},
          "execution_count": 15
        }
      ]
    },
    {
      "cell_type": "code",
      "source": [
        "np.linalg.det(A)"
      ],
      "metadata": {
        "colab": {
          "base_uri": "https://localhost:8080/"
        },
        "outputId": "9594226d-ccd2-4b6a-b5bc-9ca50a169cfc",
        "id": "bRyF2dsFLbXC"
      },
      "execution_count": null,
      "outputs": [
        {
          "output_type": "execute_result",
          "data": {
            "text/plain": [
              "-12.0"
            ]
          },
          "metadata": {},
          "execution_count": 16
        }
      ]
    },
    {
      "cell_type": "code",
      "source": [
        "round(np.linalg.det(A))"
      ],
      "metadata": {
        "colab": {
          "base_uri": "https://localhost:8080/"
        },
        "outputId": "b3758670-9864-4463-c265-ed3116d86bd3",
        "id": "sOe1w9FPLbXD"
      },
      "execution_count": null,
      "outputs": [
        {
          "output_type": "execute_result",
          "data": {
            "text/plain": [
              "-12"
            ]
          },
          "metadata": {},
          "execution_count": 17
        }
      ]
    },
    {
      "cell_type": "code",
      "source": [
        "n = 10\n",
        "\n",
        "A=np.random.randint(-10,10,size=(n,n))\n",
        "\n",
        "A"
      ],
      "metadata": {
        "colab": {
          "base_uri": "https://localhost:8080/"
        },
        "outputId": "6cfa9d51-445b-4f82-9c2f-69d58d480f07",
        "id": "jzFX1soHGlak"
      },
      "execution_count": null,
      "outputs": [
        {
          "output_type": "execute_result",
          "data": {
            "text/plain": [
              "array([[  5, -10,   6,  -9,   2,  -3,   3,  -4,   8,  -5],\n",
              "       [  8,   1,   0,   4,   8,  -6,  -1,   7, -10,   3],\n",
              "       [ -1,  -1,  -3,  -9, -10,   7,  -2,   3,   9,   5],\n",
              "       [  0,  -2,  -3,  -7,  -4,   7,  -7,  -6,   7,   1],\n",
              "       [  2,   6,   3,   9,  -1,   8,   5, -10,  -6,   5],\n",
              "       [ -8,  -3,  -2,  -1,  -7,  -3,  -6,  -5,   9,  -4],\n",
              "       [ -2, -10,  -8,   0,   5,   5,  -3,   9,   0,   4],\n",
              "       [-10,  -9,   7,   3,  -7, -10,   3,  -4,  -4,  -8],\n",
              "       [  2,   1,  -3,   3,  -2,   1,   2,   1,  -6,  -3],\n",
              "       [ -3,   3,  -6,   6,   8, -10,   3,   0,   7,  -3]])"
            ]
          },
          "metadata": {},
          "execution_count": 18
        }
      ]
    },
    {
      "cell_type": "code",
      "source": [
        "import time\n",
        "\n",
        "start_time = time.time()\n",
        "d = det(A)\n",
        "end_time = time.time()"
      ],
      "metadata": {
        "id": "I97qAqxGGlak"
      },
      "execution_count": null,
      "outputs": []
    },
    {
      "cell_type": "code",
      "source": [
        "print(\"det(A): \",d)\n",
        "print(\"time: \",end_time - start_time)"
      ],
      "metadata": {
        "colab": {
          "base_uri": "https://localhost:8080/"
        },
        "id": "s7Ud-gBiTD0n",
        "outputId": "e2bac9a7-ce74-4cdf-ea2e-8b535e24b13c"
      },
      "execution_count": null,
      "outputs": [
        {
          "output_type": "stream",
          "name": "stdout",
          "text": [
            "det(A):  29129065307\n",
            "time:  83.83236002922058\n"
          ]
        }
      ]
    },
    {
      "cell_type": "code",
      "source": [
        "import time\n",
        "\n",
        "start_time = time.time()\n",
        "d = determinant(A)\n",
        "end_time = time.time()"
      ],
      "metadata": {
        "id": "kjLXFQOeTRd2"
      },
      "execution_count": null,
      "outputs": []
    },
    {
      "cell_type": "code",
      "source": [
        "print(\"determinant(A): \",d)\n",
        "print(\"time: \",end_time - start_time)"
      ],
      "metadata": {
        "colab": {
          "base_uri": "https://localhost:8080/"
        },
        "id": "_TQFWy4ZSiDZ",
        "outputId": "65b5941d-d813-4e7d-9bf9-93041c08481c"
      },
      "execution_count": null,
      "outputs": [
        {
          "output_type": "stream",
          "name": "stdout",
          "text": [
            "determinant(A):  29129065307\n",
            "time:  34.18914318084717\n"
          ]
        }
      ]
    },
    {
      "cell_type": "code",
      "source": [
        "import time\n",
        "\n",
        "start_time = time.time()\n",
        "d = np.linalg.det(A)\n",
        "end_time = time.time()"
      ],
      "metadata": {
        "id": "jL23i77VT55-"
      },
      "execution_count": null,
      "outputs": []
    },
    {
      "cell_type": "code",
      "source": [
        "print(\"np.linalg.det(A): \",d)\n",
        "print(\"time: \",end_time - start_time)"
      ],
      "metadata": {
        "colab": {
          "base_uri": "https://localhost:8080/"
        },
        "id": "n94nx14VT5wn",
        "outputId": "5b748eca-71ba-4e09-9961-e32aaf223845"
      },
      "execution_count": null,
      "outputs": [
        {
          "output_type": "stream",
          "name": "stdout",
          "text": [
            "np.linalg.det(A):  29129065306.99992\n",
            "time:  0.0002696514129638672\n"
          ]
        }
      ]
    },
    {
      "cell_type": "markdown",
      "source": [
        "# Estimating the time by instruction in Python in a Colab machine"
      ],
      "metadata": {
        "id": "Ssedt2z56DNC"
      }
    },
    {
      "cell_type": "code",
      "source": [
        "import numpy as np\n",
        "\n",
        "n = 100\n",
        "\n",
        "A = np.ones((n,n))\n",
        "\n",
        "A"
      ],
      "metadata": {
        "colab": {
          "base_uri": "https://localhost:8080/"
        },
        "id": "1KhlyeNi4uwa",
        "outputId": "3749d81a-025c-453d-f1df-2361e9bc8cc9"
      },
      "execution_count": null,
      "outputs": [
        {
          "output_type": "execute_result",
          "data": {
            "text/plain": [
              "array([[1., 1., 1., ..., 1., 1., 1.],\n",
              "       [1., 1., 1., ..., 1., 1., 1.],\n",
              "       [1., 1., 1., ..., 1., 1., 1.],\n",
              "       ...,\n",
              "       [1., 1., 1., ..., 1., 1., 1.],\n",
              "       [1., 1., 1., ..., 1., 1., 1.],\n",
              "       [1., 1., 1., ..., 1., 1., 1.]])"
            ]
          },
          "metadata": {},
          "execution_count": 25
        }
      ]
    },
    {
      "cell_type": "code",
      "source": [
        "B = np.ones((n,n))\n",
        "\n",
        "B"
      ],
      "metadata": {
        "colab": {
          "base_uri": "https://localhost:8080/"
        },
        "id": "RKtHO3UY5M87",
        "outputId": "58a4c316-c6a0-4259-fe14-41d4a7541d88"
      },
      "execution_count": null,
      "outputs": [
        {
          "output_type": "execute_result",
          "data": {
            "text/plain": [
              "array([[1., 1., 1., ..., 1., 1., 1.],\n",
              "       [1., 1., 1., ..., 1., 1., 1.],\n",
              "       [1., 1., 1., ..., 1., 1., 1.],\n",
              "       ...,\n",
              "       [1., 1., 1., ..., 1., 1., 1.],\n",
              "       [1., 1., 1., ..., 1., 1., 1.],\n",
              "       [1., 1., 1., ..., 1., 1., 1.]])"
            ]
          },
          "metadata": {},
          "execution_count": 26
        }
      ]
    },
    {
      "cell_type": "code",
      "source": [
        "import time\n",
        "\n",
        "C= np.zeros((n,n))\n",
        "\n",
        "start_time = time.time()\n",
        "for i in range(n):\n",
        "        for j in range(n):\n",
        "            C[i][j] = 0\n",
        "            for k in range(len(A[0])):\n",
        "                C[i][j] += A[i][k] * B[k][j]\n",
        "end_time = time.time()\n",
        "print(end_time - start_time)"
      ],
      "metadata": {
        "colab": {
          "base_uri": "https://localhost:8080/"
        },
        "id": "0UFSLi-F5P0a",
        "outputId": "31fcb3af-abe5-4989-bfa5-8bf9c2f46325"
      },
      "execution_count": null,
      "outputs": [
        {
          "output_type": "stream",
          "name": "stdout",
          "text": [
            "1.1549482345581055\n"
          ]
        }
      ]
    },
    {
      "cell_type": "code",
      "source": [
        "C"
      ],
      "metadata": {
        "colab": {
          "base_uri": "https://localhost:8080/"
        },
        "id": "h9zr4Z9P61bs",
        "outputId": "15118d57-b716-4238-9b23-a4c5d85261a1"
      },
      "execution_count": null,
      "outputs": [
        {
          "output_type": "execute_result",
          "data": {
            "text/plain": [
              "array([[100., 100., 100., ..., 100., 100., 100.],\n",
              "       [100., 100., 100., ..., 100., 100., 100.],\n",
              "       [100., 100., 100., ..., 100., 100., 100.],\n",
              "       ...,\n",
              "       [100., 100., 100., ..., 100., 100., 100.],\n",
              "       [100., 100., 100., ..., 100., 100., 100.],\n",
              "       [100., 100., 100., ..., 100., 100., 100.]])"
            ]
          },
          "metadata": {},
          "execution_count": 28
        }
      ]
    },
    {
      "cell_type": "code",
      "source": [
        "time_by_oper_python = (end_time - start_time)/(2*n**3 - n**2)\n",
        "\n",
        "time_by_oper_python"
      ],
      "metadata": {
        "colab": {
          "base_uri": "https://localhost:8080/"
        },
        "id": "iEhaMEK77Ko7",
        "outputId": "ed635ea3-3118-4dae-ae24-eab1124b653d"
      },
      "execution_count": null,
      "outputs": [
        {
          "output_type": "execute_result",
          "data": {
            "text/plain": [
              "5.803759972653796e-07"
            ]
          },
          "metadata": {},
          "execution_count": 29
        }
      ]
    },
    {
      "cell_type": "code",
      "source": [
        "import time\n",
        "import numpy as np\n",
        "\n",
        "start_time = time.time()\n",
        "C = A@B\n",
        "end_time = time.time()\n",
        "print(end_time - start_time)"
      ],
      "metadata": {
        "colab": {
          "base_uri": "https://localhost:8080/"
        },
        "id": "TfGsw6UF9o-a",
        "outputId": "94944d0b-a73e-4813-9195-ca43fbb15181"
      },
      "execution_count": null,
      "outputs": [
        {
          "output_type": "stream",
          "name": "stdout",
          "text": [
            "0.004460334777832031\n"
          ]
        }
      ]
    },
    {
      "cell_type": "code",
      "source": [
        "C"
      ],
      "metadata": {
        "colab": {
          "base_uri": "https://localhost:8080/"
        },
        "id": "Q5MtZtVT93oQ",
        "outputId": "385bf9bb-8bcb-4e26-ed2a-0cdd4f7c147a"
      },
      "execution_count": null,
      "outputs": [
        {
          "output_type": "execute_result",
          "data": {
            "text/plain": [
              "array([[100., 100., 100., ..., 100., 100., 100.],\n",
              "       [100., 100., 100., ..., 100., 100., 100.],\n",
              "       [100., 100., 100., ..., 100., 100., 100.],\n",
              "       ...,\n",
              "       [100., 100., 100., ..., 100., 100., 100.],\n",
              "       [100., 100., 100., ..., 100., 100., 100.],\n",
              "       [100., 100., 100., ..., 100., 100., 100.]])"
            ]
          },
          "metadata": {},
          "execution_count": 31
        }
      ]
    },
    {
      "cell_type": "code",
      "source": [
        "time_by_oper_numpy = (end_time - start_time)/(2*n**3 - n**2)\n",
        "\n",
        "time_by_oper_numpy"
      ],
      "metadata": {
        "colab": {
          "base_uri": "https://localhost:8080/"
        },
        "id": "DTVYQYxT-TsJ",
        "outputId": "457c7545-f37e-4d86-a07a-4ba073340f45"
      },
      "execution_count": null,
      "outputs": [
        {
          "output_type": "execute_result",
          "data": {
            "text/plain": [
              "2.241374260217101e-09"
            ]
          },
          "metadata": {},
          "execution_count": 32
        }
      ]
    },
    {
      "cell_type": "markdown",
      "source": [
        "# Time estimation for the digital computer computation of a 3 x 3 matrix determinant by cofactor expansion\n",
        "\n",
        "The number of operations $(+,-,*)$ perfomed  *det(A)* algorithm that calculates\n",
        "\n",
        "$$\\det(A)  = \\sum_{j=1}^n (-1)^{i+j}a_{ij} \\det(A(i∣j)) $$\n",
        "\n",
        "is given by\n",
        "\n",
        "$$\\begin{array}{lll}\n",
        "T(n) & =&  nT(n-1) + 5n , T(1) = 1\\\\\n",
        "\\end{array}\n",
        "$$\n",
        "\n",
        "$$\\begin{array}{lll}\n",
        "T(n) & =&  nT(n-1) + 5n\\\\\n",
        "     & =&  n[(n-1) T(n-2) + 5 (n-1) +10] + 5n  \\\\\n",
        "     & =&  n(n-1) T(n-2) + 5 n  (n-1) + 5n \\\\\n",
        "     & =&  n(n-1) [(n-2) T(n-3) + 5 (n-2)] + 5 n(n-1) + 5n\\\\\n",
        "     & = & n(n-1)(n-2) T(n-3) + 5n(n-1)(n-2)+  5 n  (n-1) + 5n \\\\\n",
        "     & \\vdots\\\\\n",
        "     & = &  n(n-1)(n-2)\\cdots (n -(n-2))  T(1) + [5n(n-1)(n-2)(n-3)\\cdots (n -(n-3))] + \\cdots + [5 n (n-1)]+ 5n \\\\\n",
        "    & = & n! + [5n(n-1)(n-2)(n-3)\\cdots 2] + [5n(n-1)(n-2)(n-3)\\cdots 3]+ \\cdots +[5 n (n-1) (n-3)] + [5 n (n-1)]+ 5n  \n",
        "\\end{array}\n",
        "$$\n",
        "\n",
        "$$T(n) = n! + 5 \\sum_{i=0}^{n-1} n!/i! = n! + 5 n!\\sum_{i=0}^{n-1} \\frac{1}{i!} < n! + 5 e n! < 16 n!  $$\n",
        "\n",
        "1. Asumming that an arithmetic operation takes the *time_by_oper_python* estimated before,  what is the maximun square matrix size for which the deteminant can be computed with cofactor extesion in $\\le$ 3 minute. Report the time at [LABCramer](https://docs.google.com/spreadsheets/d/1JNUbuj3QHcyPmp8i6kNreUFucj2mOvKHkCFHHy7zfws/edit?usp=sharing).\n",
        "\n",
        "2. Run an experiment with a random matrix of that size and report the time at [LABCramer](https://docs.google.com/spreadsheets/d/1JNUbuj3QHcyPmp8i6kNreUFucj2mOvKHkCFHHy7zfws/edit?usp=sharing).\n",
        "\n",
        "If the determinant of a $n \\times n$ square matrix takes $16 n!$ operations how much takes the Crammer solution of $n \\times n$ systems of linear equations?\n",
        "\n",
        "\n",
        "\n",
        "\n"
      ],
      "metadata": {
        "id": "PhAai3wzo_Tc"
      }
    },
    {
      "cell_type": "markdown",
      "source": [],
      "metadata": {
        "id": "1Q2_AgMR74mR"
      }
    },
    {
      "cell_type": "markdown",
      "source": [
        "# Time estimation for the human computer computation of a 3 x 3 matrix determinant by cofactor expansion\n",
        "\n",
        " Write a 3 x 3 matrix with the first element as your list number Mod 10 and the rest row by row 1,2,3,...9 skipimg the first element, by example if youir list number is 12, your list number Mod 10 is 2 and the matrix is\n",
        "$$A = \\left[\n",
        "  \\begin{array}{ccc}\n",
        "2 & 1 & 3\\\\\n",
        "4 & 5 & 6\\\\\n",
        "7 & 8 & 9\\\\\n",
        "\\end{array}\n",
        "\\right]\n",
        "$$\n",
        "Use a chronometer like http://online-stopwatch.chronme.com/ to estimate the time to compute the determinant by using the procedure in the follo wing exmaple (https://people.math.carleton.ca/~kcheung/math/notes/MATH1107/07/07_cofactor_expansion.html):<br />  \n",
        "Let\n",
        "$$A = \\begin{bmatrix} 10 & 2 & 3\\\\ 4 & 5 & 6\\\\ 7 & 8 & 9 \\end{bmatrix}$$\n",
        "we compute $\\det(A)$ by expanding along row $2$ as <br /> <br />\n",
        "$$\\begin{eqnarray} \\det(A) & = & (-1)^{2+1}A_{2,1}\\det(A(2 \\mid 1)) + (-1)^{2+2}A_{2,2}\\det(A(2 \\mid 2)) + (-1)^{2+3}A_{2,3}\\det(A(2 \\mid 3)) \\\\ & = & -10\\left|\\begin{matrix} 2 & 3 \\\\ 8 & 9\\end{matrix}\\right| + 5\\left|\\begin{matrix} 1 & 3 \\\\ 7 & 9\\end{matrix}\\right| - 6\\left|\\begin{matrix} 1 & 2 \\\\ 7 & 8\\end{matrix}\\right| \\\\ & = & -10(2\\cdot 9 - 3\\cdot 8) + 5(1 \\cdot 9- 3\\cdot 7) - 6(1\\cdot 8 - 2 \\cdot 7) \\\\ & = & 60 - 60 + 36 \\\\ & = & 36\\end{eqnarray}$$\n",
        "3. Report the time at [LABCramer](https://docs.google.com/spreadsheets/d/1JNUbuj3QHcyPmp8i6kNreUFucj2mOvKHkCFHHy7zfws/edit?usp=sharing)\n",
        "4. Report the value of the determinant at [LABCramer](https://docs.google.com/spreadsheets/d/1JNUbuj3QHcyPmp8i6kNreUFucj2mOvKHkCFHHy7zfws/edit?usp=sharing)\n"
      ],
      "metadata": {
        "id": "__brdhGadAXY"
      }
    }
  ]
}